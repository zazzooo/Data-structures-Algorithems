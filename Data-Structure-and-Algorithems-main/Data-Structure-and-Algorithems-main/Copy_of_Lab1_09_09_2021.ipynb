{
  "nbformat": 4,
  "nbformat_minor": 0,
  "metadata": {
    "colab": {
      "name": "Copy of Lab1-09-09-2021.ipynb",
      "provenance": [],
      "collapsed_sections": [],
      "include_colab_link": true
    },
    "kernelspec": {
      "name": "python3",
      "display_name": "Python 3"
    },
    "language_info": {
      "name": "python"
    }
  },
  "cells": [
    {
      "cell_type": "markdown",
      "metadata": {
        "id": "view-in-github",
        "colab_type": "text"
      },
      "source": [
        "<a href=\"https://colab.research.google.com/github/zazzooo/Data-Structure-and-Algorithems/blob/main/Copy_of_Lab1_09_09_2021.ipynb\" target=\"_parent\"><img src=\"https://colab.research.google.com/assets/colab-badge.svg\" alt=\"Open In Colab\"/></a>"
      ]
    },
    {
      "cell_type": "markdown",
      "metadata": {
        "id": "ldBuEAP1vC5Q"
      },
      "source": [
        "##1. Github/Jupyter Notebooks/Google Collab"
      ]
    },
    {
      "cell_type": "markdown",
      "metadata": {
        "id": "hIx2xlHvp-jI"
      },
      "source": [
        "## 2. Strings\n",
        "\n",
        "2.1 Write a program that get your name and writes a greeting"
      ]
    },
    {
      "cell_type": "code",
      "metadata": {
        "id": "nRKl1OKMqF_X",
        "colab": {
          "base_uri": "https://localhost:8080/"
        },
        "outputId": "cdb632d5-c21b-47fe-86a1-8d18d4888c80"
      },
      "source": [
        "name = input(\"Your name: \")\n",
        "print(\"Hello\", name,\"!\")"
      ],
      "execution_count": null,
      "outputs": [
        {
          "output_type": "stream",
          "name": "stdout",
          "text": [
            "Your name: Lorenzo\n",
            "Hello Lorenzo !\n"
          ]
        }
      ]
    },
    {
      "cell_type": "markdown",
      "metadata": {
        "id": "72aP6ExJqOFW"
      },
      "source": [
        "\n",
        "  2.2 Change the program to greet only you (your name), in CAPITALIZED letters, and writes nothing otherwise."
      ]
    },
    {
      "cell_type": "code",
      "metadata": {
        "colab": {
          "base_uri": "https://localhost:8080/"
        },
        "id": "DoFLBMsxLU4I",
        "outputId": "b84793e8-099c-4009-b7cf-dd143190b577"
      },
      "source": [
        "print(name.upper())"
      ],
      "execution_count": null,
      "outputs": [
        {
          "output_type": "stream",
          "name": "stdout",
          "text": [
            "LORENZO\n"
          ]
        }
      ]
    },
    {
      "cell_type": "markdown",
      "metadata": {
        "id": "rK-9RlvOqOOs"
      },
      "source": [
        "2.3 Modify the program to write something only when the name starts with the same letter of your name"
      ]
    },
    {
      "cell_type": "code",
      "metadata": {
        "colab": {
          "base_uri": "https://localhost:8080/"
        },
        "id": "qi-JWT4xLx2F",
        "outputId": "38d91e74-cdfb-47b8-a28c-f440d2adaed5"
      },
      "source": [
        "if name[0]=='L':\n",
        "  print('You are Zazzo ;)')"
      ],
      "execution_count": null,
      "outputs": [
        {
          "output_type": "stream",
          "name": "stdout",
          "text": [
            "You are Zazzo ;)\n"
          ]
        }
      ]
    },
    {
      "cell_type": "markdown",
      "metadata": {
        "id": "SYUMTePNqsea"
      },
      "source": [
        "##3. Numbers\n",
        "\n",
        "3.1 Write a program that asks for the temperature in Celsius and converts it to Fahrenheit.\n",
        "\n",
        "3.2 Considering that the size of your group (39 students), and  that you will form groups of 4 for your final projects. How many groups of 4 are possible, how many students are left?\n"
      ]
    },
    {
      "cell_type": "code",
      "metadata": {
        "colab": {
          "base_uri": "https://localhost:8080/"
        },
        "id": "MXDD0LHsMlG4",
        "outputId": "74173583-bb7a-48f9-bdc0-99cc74a5df23"
      },
      "source": [
        "#Exercise 3.1\n",
        "\n",
        "#basic solution#\n",
        "temp = float(input(\"Temperature (Celsius): \"))\n",
        "\n",
        "tempf = temp*9/5+32\n",
        "\n",
        "print (tempf)\n",
        "\n",
        "#adv. solution#\n",
        "def converseCels_to_Fahe(n):\n",
        "  return n*(9/5)+32\n",
        "\n",
        "print(converseCels_to_Fahe(57))\n",
        "print(int(converseCels_to_Fahe(57)))\n",
        "\n",
        "#Exercise 3.2\n",
        "from itertools import combinations\n",
        "\n",
        "def factorial(n,result):\n",
        "  if n > 0:\n",
        "    result = result*n\n",
        "    return factorial(n-1,result)\n",
        "  else:\n",
        "    return result\n",
        "\n",
        "def factorial_better(n):\n",
        "  if n < 1:\n",
        "    print('Your integer is negative or zero!')\n",
        "  if n == 1:\n",
        "    return n\n",
        "  else:\n",
        "    return n*factorial_better(n-1)\n",
        "\n",
        "print(factorial_better(5))\n",
        "    \n",
        "def group_of_m(n,m):\n",
        "  return factorial_better(n)/(factorial_better(m)*factorial_better(n-m))\n",
        "\n",
        "print(group_of_m(39,4))\n"
      ],
      "execution_count": null,
      "outputs": [
        {
          "output_type": "stream",
          "name": "stdout",
          "text": [
            "134.60000000000002\n",
            "134\n",
            "120\n",
            "82251.0\n"
          ]
        }
      ]
    },
    {
      "cell_type": "markdown",
      "metadata": {
        "id": "FI0vavHtr0Gi"
      },
      "source": [
        "### 4. Boolean\n",
        "\n",
        "Here is a very simple decision algorithm. Is the person allowed to drive?"
      ]
    },
    {
      "cell_type": "code",
      "metadata": {
        "id": "Bv7LT_49tvNe",
        "colab": {
          "base_uri": "https://localhost:8080/"
        },
        "outputId": "9f84fc55-bce9-453b-b5b4-60c21a0a5aef"
      },
      "source": [
        "#Step1 the criteria\n",
        "DL = input(\"Do you have a driver's licence? (Y/N)\")\n",
        "\n",
        "Sober = input(\"Are you sober? (Y/N)\")\n",
        "\n",
        "#Step 2 the conditions\n",
        "\n",
        "if DL=='Y' and Sober=='Y':\n",
        "  print(\"Fine! Have a nice trip and respect the speed limits!\")\n",
        "else:\n",
        "  print('You can\\'t drive. Get a taxi!')"
      ],
      "execution_count": 31,
      "outputs": [
        {
          "output_type": "stream",
          "name": "stdout",
          "text": [
            "Do you have a driver's licence? (Y/N)Y\n",
            "Are you sober? (Y/N)N\n",
            "You can't drive. Get a taxi!\n"
          ]
        }
      ]
    },
    {
      "cell_type": "markdown",
      "metadata": {
        "id": "eIRaw-8zuYRj"
      },
      "source": [
        "\n",
        "Write a program that checks the elegibility of someone for a social program.  The requirement is that the person is unemployed and have a household income per capita bellow 1000 euros or 1500 euros if there are children in the house.\n",
        "\n",
        "Hints: **Step 1** - Create variables for each each criteria\n",
        "       **Step 2** - Test the conditions if \"if\" clauses"
      ]
    },
    {
      "cell_type": "code",
      "metadata": {
        "colab": {
          "base_uri": "https://localhost:8080/"
        },
        "id": "WPytnJMjQzzg",
        "outputId": "079a2288-7319-49c2-f85b-96b6fa4fc64e"
      },
      "source": [
        "Unemployed = input('Are you uneployed? (Y/N)')\n",
        "\n",
        "Children = input('Do you have chindren? (Y/N)')\n",
        "\n",
        "Income_below_1500 = input('Is your household income below 1500€? (Y/N)') \n",
        "\n",
        "Income_below_1000 = input('Is your household income below 1000€? (Y/N)')\n",
        "\n",
        "if Unemployed == 'Y' and Children == 'Y' and Income_below_1500 == 'Y':\n",
        "  print('You can be surveyed')\n",
        "\n",
        "if Unemployed == 'Y' and Children == 'N' and Income_below_1000 == 'Y':\n",
        "  print('You can be surveyed.')\n",
        " \n",
        "else:\n",
        "  print('Unfortunately you can\\'t partecipate at the survey.')\n"
      ],
      "execution_count": 29,
      "outputs": [
        {
          "output_type": "stream",
          "name": "stdout",
          "text": [
            "Are you uneployed? (Y/N)N\n",
            "Do you have chindren? (Y/N)Y\n",
            "Is your household income below 1500€? (Y/N)Y\n",
            "Is your household income below 1000€? (Y/N)Y\n",
            "Unfortunately you can't partecipate at the survey\n"
          ]
        }
      ]
    }
  ]
}