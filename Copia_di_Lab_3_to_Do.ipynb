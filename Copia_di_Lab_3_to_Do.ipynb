{
  "nbformat": 4,
  "nbformat_minor": 0,
  "metadata": {
    "colab": {
      "name": "Copia di Lab 3 to Do.ipynb",
      "provenance": [],
      "collapsed_sections": [],
      "include_colab_link": true
    },
    "kernelspec": {
      "name": "python3",
      "display_name": "Python 3"
    }
  },
  "cells": [
    {
      "cell_type": "markdown",
      "metadata": {
        "id": "view-in-github",
        "colab_type": "text"
      },
      "source": [
        "<a href=\"https://colab.research.google.com/github/zazzooo/Data-structures-Algorithems/blob/master/Copia_di_Lab_3_to_Do.ipynb\" target=\"_parent\"><img src=\"https://colab.research.google.com/assets/colab-badge.svg\" alt=\"Open In Colab\"/></a>"
      ]
    },
    {
      "cell_type": "markdown",
      "metadata": {
        "id": "h5jut3mdbmyo"
      },
      "source": [
        "## 1. Write a Python program to sort a list of elements using the bubble sort algorithm.\n",
        "\n",
        "\n",
        "Bubble Sort is the simplest sorting algorithm that works by repeatedly swapping the adjacent elements in a list if they are in wrong order.\n",
        "\n",
        "Hint: Do not use the sort method included in python. Write your own using the swap trick we learned last week."
      ]
    },
    {
      "cell_type": "markdown",
      "metadata": {
        "id": "DyCaV58VxFlJ"
      },
      "source": [
        "Hint: One important thing about the Bubble Sort algorithm is to swap values. In Python there are two ways to swap values. One the classical one, with the use of an auxiliary variable and the other way is specific from Python language"
      ]
    },
    {
      "cell_type": "code",
      "metadata": {
        "colab": {
          "base_uri": "https://localhost:8080/"
        },
        "id": "lwX4eH3lxmx-",
        "outputId": "3252da03-fcbb-4903-87f2-05be129d0e6d"
      },
      "source": [
        "# General\n",
        "vec = ['a','b']\n",
        "\n",
        "aux = 'b'\n",
        "vec[1] = vec[0]\n",
        "vec[0]=aux\n",
        "\n",
        "print(vec)"
      ],
      "execution_count": null,
      "outputs": [
        {
          "output_type": "stream",
          "name": "stdout",
          "text": [
            "['b', 'a']\n"
          ]
        }
      ]
    },
    {
      "cell_type": "code",
      "metadata": {
        "colab": {
          "base_uri": "https://localhost:8080/",
          "height": 235
        },
        "id": "0irdoI0pyFbt",
        "outputId": "43a4aeef-b5ae-4dbf-f711-23ae14a4c699"
      },
      "source": [
        "# Specific from Python\n",
        "vec = ['a','b']\n",
        "\n",
        "vec[1],vec[0] = vec[0],vec[1]\n",
        "\n",
        "print(vec)\n",
        "\n"
      ],
      "execution_count": null,
      "outputs": [
        {
          "output_type": "stream",
          "name": "stdout",
          "text": [
            "['b', 'a']\n"
          ]
        },
        {
          "output_type": "error",
          "ename": "TypeError",
          "evalue": "ignored",
          "traceback": [
            "\u001b[0;31m---------------------------------------------------------------------------\u001b[0m",
            "\u001b[0;31mTypeError\u001b[0m                                 Traceback (most recent call last)",
            "\u001b[0;32m<ipython-input-1-1453264a8d46>\u001b[0m in \u001b[0;36m<module>\u001b[0;34m()\u001b[0m\n\u001b[1;32m      6\u001b[0m \u001b[0mprint\u001b[0m\u001b[0;34m(\u001b[0m\u001b[0mvec\u001b[0m\u001b[0;34m)\u001b[0m\u001b[0;34m\u001b[0m\u001b[0;34m\u001b[0m\u001b[0m\n\u001b[1;32m      7\u001b[0m \u001b[0;34m\u001b[0m\u001b[0m\n\u001b[0;32m----> 8\u001b[0;31m \u001b[0;32mfor\u001b[0m \u001b[0mi\u001b[0m\u001b[0;34m,\u001b[0m\u001b[0mj\u001b[0m \u001b[0;32min\u001b[0m \u001b[0mrange\u001b[0m\u001b[0;34m(\u001b[0m\u001b[0;36m2\u001b[0m\u001b[0;34m)\u001b[0m\u001b[0;34m:\u001b[0m\u001b[0;34m\u001b[0m\u001b[0;34m\u001b[0m\u001b[0m\n\u001b[0m\u001b[1;32m      9\u001b[0m   \u001b[0mprint\u001b[0m\u001b[0;34m(\u001b[0m\u001b[0mi\u001b[0m\u001b[0;34m)\u001b[0m\u001b[0;34m\u001b[0m\u001b[0;34m\u001b[0m\u001b[0m\n",
            "\u001b[0;31mTypeError\u001b[0m: cannot unpack non-iterable int object"
          ]
        }
      ]
    },
    {
      "cell_type": "code",
      "metadata": {
        "id": "axkqX6O5rwYx",
        "colab": {
          "base_uri": "https://localhost:8080/"
        },
        "outputId": "45a43b90-ef0d-4d40-9e6a-442022e522a9"
      },
      "source": [
        "population_ages = [1, 9, 49, 64, 4, 9, 16, 25, 36, 81, 100,-1]\n",
        "\n",
        "#Your code here\n",
        "def boubble_sort(L):\n",
        "  aux = 0\n",
        "  for i in range(len(L)):\n",
        "    for j in range(i+1,len(L)):\n",
        "      if L[j] < L[i]:\n",
        "        L[j] , L[i] = L[i] , L[j]\n",
        "        # aux =  L[i] \n",
        "        # L[i] = L[j]\n",
        "        # L[j] = aux\n",
        "  return L\n",
        "\n",
        "print(boubble_sort(population_ages))"
      ],
      "execution_count": null,
      "outputs": [
        {
          "output_type": "stream",
          "name": "stdout",
          "text": [
            "[-1, 1, 4, 9, 9, 16, 25, 36, 49, 64, 81, 100]\n"
          ]
        }
      ]
    },
    {
      "cell_type": "markdown",
      "metadata": {
        "id": "YKuSdp_7cAiH"
      },
      "source": [
        "### 2. Make a Rock-Paper-Scissors game.\n",
        "\n",
        "Ask for player play (using input)\n",
        "\n",
        "- randomise the computer's pick\n",
        "- print out a message to the player telling them the computer's pick and if they lost/won\n",
        "- ask if the player wants to start a new game\n",
        "\n",
        "Remember the rules:\n",
        "\n",
        "- Rock beats scissors\n",
        "- Scissors beats paper\n",
        "- Paper beats rock\n",
        "\n",
        "Extra considerations\n",
        "\n",
        "- If the player enters an invalid option, tell them to pick again until they have picked a valid one\n",
        "\n",
        "Extra Credit:\n",
        "\n",
        "Can you solve the main loop with 3 or less if/else  statements?"
      ]
    },
    {
      "cell_type": "code",
      "metadata": {
        "id": "Jwk10YVFZo1B",
        "colab": {
          "base_uri": "https://localhost:8080/"
        },
        "outputId": "9378253b-8aca-495e-c9dc-a196b83ca9ce"
      },
      "source": [
        "import random\n",
        "\n",
        "another_game = True\n",
        "while another_game:\n",
        "  user_pick = input('Your pick? ')\n",
        "  valid_pick = ['paper', 'scissor', 'rock']\n",
        "  while user_pick not in valid_pick:  \n",
        "    user_pick = input(f'Invalid pick. The valid picks are {valid_pick} .Your pick? ')\n",
        "  D = {1: 'paper', 2: 'scissor', 3: 'rock'}\n",
        "  computer_pick = random.randint(1,3)\n",
        "  print(D[computer_pick])\n",
        "  if D[computer_pick] == user_pick:\n",
        "      print(f'EVEN, you and the computer choose {D[computer_pick]}')\n",
        "  elif D[computer_pick] == 'rock' and user_pick == 'paper':\n",
        "      print(f'The copmputer has choose {D[computer_pick]}. You won!')\n",
        "  elif D[computer_pick] == 'scissor' and user_pick == 'rock':\n",
        "      print(f'The copmputer has choose {D[computer_pick]}. You won!')\n",
        "  elif D[computer_pick] == 'rock' and user_pick == 'paper':\n",
        "      print(f'The copmputer has choose {D[computer_pick]}. You won!')\n",
        "  else:\n",
        "      print(f'You have lost. The computer has choosen {D[computer_pick]}')\n",
        "  another_game = False\n",
        "  answer = input('Do you wonna play another game? ')\n",
        "  if answer == 'Yes':\n",
        "    another_game = True"
      ],
      "execution_count": null,
      "outputs": [
        {
          "name": "stdout",
          "output_type": "stream",
          "text": [
            "Your pick? rock\n",
            "scissor\n",
            "The copmputer has choose scissor. You won!\n",
            "Do you wonna play another game?Yes\n",
            "Your pick? paper\n",
            "scissor\n",
            "You have lost. The computer has choosen scissor\n",
            "Do you wonna play another game?No\n"
          ]
        }
      ]
    },
    {
      "cell_type": "markdown",
      "metadata": {
        "id": "ZZKbvlX5KxTQ"
      },
      "source": [
        "#### **Hint: Use the random library. Think about how the rules would be translated into code using conditional statements**"
      ]
    },
    {
      "cell_type": "markdown",
      "metadata": {
        "id": "lR7J-A8-LM4k"
      },
      "source": [
        "### 2.1 Can you figure out a way to make a very short code using dictionaries?"
      ]
    },
    {
      "cell_type": "markdown",
      "metadata": {
        "id": "9b4s4-MmFiHx"
      },
      "source": [
        "### 3.  Write a program that return a dictionary with the keys in alphabetical order \n",
        "\n",
        "Use your own approach"
      ]
    },
    {
      "cell_type": "code",
      "metadata": {
        "id": "jlLyhDy32wUz",
        "colab": {
          "base_uri": "https://localhost:8080/"
        },
        "outputId": "15622194-993d-4c45-e08b-c8ff974108e0"
      },
      "source": [
        "fellowship = {'Shire': 'a very peaceful place','Mordor':'a no go place','Gandalf':'powerful wizard','Frodo':'brave hobbit','Gimli':'blood thirsty dwarf','Legolas':'fast elf','Aragorn':'a man and king','Boromir':'a dreamer man'}\n",
        "\n",
        "print(fellowship)\n",
        "\n",
        "ordered_fellowship_key = dict(sorted(fellowship.items()))\n",
        "list_keys = []\n",
        "print(ordered_fellowship_key)\n",
        "\n",
        "ordered_fellowship_value = dict(sorted(fellowship.items(), key=lambda item: item[1]))\n",
        "print(ordered_fellowship_value)"
      ],
      "execution_count": null,
      "outputs": [
        {
          "output_type": "stream",
          "name": "stdout",
          "text": [
            "{'Shire': 'a very peaceful place', 'Mordor': 'a no go place', 'Gandalf': 'powerful wizard', 'Frodo': 'brave hobbit', 'Gimli': 'blood thirsty dwarf', 'Legolas': 'fast elf', 'Aragorn': 'a man and king', 'Boromir': 'a dreamer man'}\n",
            "{'Aragorn': 'a man and king', 'Boromir': 'a dreamer man', 'Frodo': 'brave hobbit', 'Gandalf': 'powerful wizard', 'Gimli': 'blood thirsty dwarf', 'Legolas': 'fast elf', 'Mordor': 'a no go place', 'Shire': 'a very peaceful place'}\n",
            "{'Boromir': 'a dreamer man', 'Aragorn': 'a man and king', 'Mordor': 'a no go place', 'Shire': 'a very peaceful place', 'Gimli': 'blood thirsty dwarf', 'Frodo': 'brave hobbit', 'Legolas': 'fast elf', 'Gandalf': 'powerful wizard'}\n"
          ]
        }
      ]
    },
    {
      "cell_type": "code",
      "metadata": {
        "id": "K2M9Jxwv2XW4"
      },
      "source": [
        "#Your code here\n"
      ],
      "execution_count": null,
      "outputs": []
    },
    {
      "cell_type": "markdown",
      "metadata": {
        "id": "n5v3GGeCJeb7"
      },
      "source": [
        "### 3.1 Try the same probleam but with the values in alphabetical order"
      ]
    }
  ]
}